{
 "cells": [
  {
   "cell_type": "code",
   "execution_count": null,
   "id": "d2ea6b00-9f3a-4610-bac0-7825794cdba9",
   "metadata": {},
   "outputs": [],
   "source": []
  },
  {
   "cell_type": "code",
   "execution_count": 1,
   "id": "57a423ae-035f-400b-97b8-afcb093d0af9",
   "metadata": {},
   "outputs": [],
   "source": [
    "import pandas as pd\n",
    "from sklearn.preprocessing import StandardScaler, OneHotEncoder\n",
    "from sklearn.pipeline import make_pipeline\n",
    "from sklearn.compose import make_column_selector, ColumnTransformer\n",
    "from sklearn.model_selection import train_test_split\n",
    "from sklearn.metrics import classification_report, confusion_matrix\n",
    "from tensorflow import keras\n",
    "from keras.layers import Dense\n",
    "import matplotlib.pyplot as plt\n",
    "import seaborn as sns"
   ]
  },
  {
   "cell_type": "code",
   "execution_count": 2,
   "id": "39deaec6-b0d9-410a-8f99-d8066db8a15f",
   "metadata": {},
   "outputs": [],
   "source": [
    "def plot_history(history, figsize=(6,12), marker='o'):\n",
    "\n",
    "    # Get list of metrics from history\n",
    "    metrics = [c for c in history.history if not c.startswith('val_')]\n",
    "\n",
    "    ## Separate row for each metric\n",
    "    fig, axes = plt.subplots(nrows=len(metrics),figsize=figsize)\n",
    "\n",
    "    # For each metric\n",
    "    for i, metric_name in enumerate(metrics):\n",
    "\n",
    "        # Get the axis for the current metric\n",
    "        ax = axes[i]\n",
    "\n",
    "        # Get metric from history.history\n",
    "        metric_values = history.history[metric_name]\n",
    "        # Get epochs from history\n",
    "        epochs = history.epoch\n",
    "\n",
    "        # Plot the training metric\n",
    "        ax.plot(epochs, metric_values, label=metric_name, marker=marker)\n",
    "\n",
    "        ## Check if val_{metric} exists. if so, plot:\n",
    "        val_metric_name = f\"val_{metric_name}\"\n",
    "        if val_metric_name in history.history:\n",
    "            # Get validation values and plot\n",
    "            metric_values = history.history[val_metric_name]\n",
    "            ax.plot(epochs,metric_values,label=val_metric_name, marker=marker)\n",
    "\n",
    "        # Final subplot adjustments\n",
    "        ax.legend()\n",
    "        ax.set_title(metric_name)\n",
    "    fig.tight_layout()\n",
    "\n",
    "    return fig, axes"
   ]
  },
  {
   "cell_type": "markdown",
   "id": "d8c6dcc8-ac7d-4ae2-8099-2854e4930e16",
   "metadata": {},
   "source": [
    "### Explore and clean the data if needed."
   ]
  },
  {
   "cell_type": "code",
   "execution_count": 3,
   "id": "f0487bdb-6b5e-467f-b338-77dfdc8f9f3c",
   "metadata": {},
   "outputs": [
    {
     "data": {
      "text/html": [
       "<div>\n",
       "<style scoped>\n",
       "    .dataframe tbody tr th:only-of-type {\n",
       "        vertical-align: middle;\n",
       "    }\n",
       "\n",
       "    .dataframe tbody tr th {\n",
       "        vertical-align: top;\n",
       "    }\n",
       "\n",
       "    .dataframe thead th {\n",
       "        text-align: right;\n",
       "    }\n",
       "</style>\n",
       "<table border=\"1\" class=\"dataframe\">\n",
       "  <thead>\n",
       "    <tr style=\"text-align: right;\">\n",
       "      <th></th>\n",
       "      <th>Age</th>\n",
       "      <th>Sex</th>\n",
       "      <th>ChestPainType</th>\n",
       "      <th>RestingBP</th>\n",
       "      <th>Cholesterol</th>\n",
       "      <th>FastingBS</th>\n",
       "      <th>RestingECG</th>\n",
       "      <th>MaxHR</th>\n",
       "      <th>ExerciseAngina</th>\n",
       "      <th>Oldpeak</th>\n",
       "      <th>ST_Slope</th>\n",
       "      <th>HeartDisease</th>\n",
       "    </tr>\n",
       "  </thead>\n",
       "  <tbody>\n",
       "    <tr>\n",
       "      <th>0</th>\n",
       "      <td>40</td>\n",
       "      <td>M</td>\n",
       "      <td>ATA</td>\n",
       "      <td>140</td>\n",
       "      <td>289</td>\n",
       "      <td>0</td>\n",
       "      <td>Normal</td>\n",
       "      <td>172</td>\n",
       "      <td>N</td>\n",
       "      <td>0.0</td>\n",
       "      <td>Up</td>\n",
       "      <td>0</td>\n",
       "    </tr>\n",
       "    <tr>\n",
       "      <th>1</th>\n",
       "      <td>49</td>\n",
       "      <td>F</td>\n",
       "      <td>NAP</td>\n",
       "      <td>160</td>\n",
       "      <td>180</td>\n",
       "      <td>0</td>\n",
       "      <td>Normal</td>\n",
       "      <td>156</td>\n",
       "      <td>N</td>\n",
       "      <td>1.0</td>\n",
       "      <td>Flat</td>\n",
       "      <td>1</td>\n",
       "    </tr>\n",
       "    <tr>\n",
       "      <th>2</th>\n",
       "      <td>37</td>\n",
       "      <td>M</td>\n",
       "      <td>ATA</td>\n",
       "      <td>130</td>\n",
       "      <td>283</td>\n",
       "      <td>0</td>\n",
       "      <td>ST</td>\n",
       "      <td>98</td>\n",
       "      <td>N</td>\n",
       "      <td>0.0</td>\n",
       "      <td>Up</td>\n",
       "      <td>0</td>\n",
       "    </tr>\n",
       "    <tr>\n",
       "      <th>3</th>\n",
       "      <td>48</td>\n",
       "      <td>F</td>\n",
       "      <td>ASY</td>\n",
       "      <td>138</td>\n",
       "      <td>214</td>\n",
       "      <td>0</td>\n",
       "      <td>Normal</td>\n",
       "      <td>108</td>\n",
       "      <td>Y</td>\n",
       "      <td>1.5</td>\n",
       "      <td>Flat</td>\n",
       "      <td>1</td>\n",
       "    </tr>\n",
       "    <tr>\n",
       "      <th>4</th>\n",
       "      <td>54</td>\n",
       "      <td>M</td>\n",
       "      <td>NAP</td>\n",
       "      <td>150</td>\n",
       "      <td>195</td>\n",
       "      <td>0</td>\n",
       "      <td>Normal</td>\n",
       "      <td>122</td>\n",
       "      <td>N</td>\n",
       "      <td>0.0</td>\n",
       "      <td>Up</td>\n",
       "      <td>0</td>\n",
       "    </tr>\n",
       "  </tbody>\n",
       "</table>\n",
       "</div>"
      ],
      "text/plain": [
       "   Age Sex ChestPainType  RestingBP  Cholesterol  FastingBS RestingECG  MaxHR  \\\n",
       "0   40   M           ATA        140          289          0     Normal    172   \n",
       "1   49   F           NAP        160          180          0     Normal    156   \n",
       "2   37   M           ATA        130          283          0         ST     98   \n",
       "3   48   F           ASY        138          214          0     Normal    108   \n",
       "4   54   M           NAP        150          195          0     Normal    122   \n",
       "\n",
       "  ExerciseAngina  Oldpeak ST_Slope  HeartDisease  \n",
       "0              N      0.0       Up             0  \n",
       "1              N      1.0     Flat             1  \n",
       "2              N      0.0       Up             0  \n",
       "3              Y      1.5     Flat             1  \n",
       "4              N      0.0       Up             0  "
      ]
     },
     "execution_count": 3,
     "metadata": {},
     "output_type": "execute_result"
    }
   ],
   "source": [
    "df_heart=pd.read_csv('C:/Users/Dell/Downloads/heart - heart.csv')\n",
    "df_heart.head(5)"
   ]
  },
  {
   "cell_type": "code",
   "execution_count": 4,
   "id": "811cefb5-b78e-42ea-a956-aa6146ae2550",
   "metadata": {},
   "outputs": [
    {
     "data": {
      "text/plain": [
       "Age               0\n",
       "Sex               0\n",
       "ChestPainType     0\n",
       "RestingBP         0\n",
       "Cholesterol       0\n",
       "FastingBS         0\n",
       "RestingECG        0\n",
       "MaxHR             0\n",
       "ExerciseAngina    0\n",
       "Oldpeak           0\n",
       "ST_Slope          0\n",
       "HeartDisease      0\n",
       "dtype: int64"
      ]
     },
     "execution_count": 4,
     "metadata": {},
     "output_type": "execute_result"
    }
   ],
   "source": [
    "df_heart.isnull().sum()"
   ]
  },
  {
   "cell_type": "code",
   "execution_count": 5,
   "id": "5057dda7-38f7-4c0e-ac07-8f4b834245c9",
   "metadata": {},
   "outputs": [
    {
     "data": {
      "text/plain": [
       "0"
      ]
     },
     "execution_count": 5,
     "metadata": {},
     "output_type": "execute_result"
    }
   ],
   "source": [
    "df_heart.duplicated().sum()"
   ]
  },
  {
   "cell_type": "markdown",
   "id": "aedb4ac6-d6ef-4faf-b891-437725467f59",
   "metadata": {},
   "source": [
    "### Perform a train-test split on your data."
   ]
  },
  {
   "cell_type": "code",
   "execution_count": 7,
   "id": "105308a8-9cdf-4ea6-8f6d-1b2756ea02b5",
   "metadata": {},
   "outputs": [],
   "source": [
    "x = df_heart.drop(columns='HeartDisease')\n",
    "y = df_heart['HeartDisease']\n",
    "xtrain, xtest, ytrain, ytest = train_test_split(x, y, random_state=42)"
   ]
  },
  {
   "cell_type": "markdown",
   "id": "ec14aa78-a682-4eeb-a4ca-74fb688e17ee",
   "metadata": {},
   "source": [
    "### Use a column transformer to scale the numeric features and one-hot encode the categorical features."
   ]
  },
  {
   "cell_type": "code",
   "execution_count": 8,
   "id": "c5ff2568-9cb7-46fa-b9b7-54be691b3c14",
   "metadata": {},
   "outputs": [],
   "source": [
    "categoric_select = make_column_selector(dtype_include='object')\n",
    "numeric_select = make_column_selector(dtype_include='number')\n",
    "\n",
    "scaler = StandardScaler()\n",
    "ohe = OneHotEncoder(handle_unknown='ignore')\n",
    "\n",
    "numeric_tuple = ('num', scaler, numeric_select)\n",
    "categoric_tuple = ('cat', ohe, categoric_select)\n",
    "\n",
    "processor = ColumnTransformer([numeric_tuple, categoric_tuple], remainder='passthrough')"
   ]
  },
  {
   "cell_type": "code",
   "execution_count": 9,
   "id": "dde6f089-48d5-43ae-8f91-55e6d8143d87",
   "metadata": {},
   "outputs": [],
   "source": [
    "xtrain_processed = processor.fit_transform(xtrain)\n",
    "xtest_processed = processor.transform(xtest)"
   ]
  },
  {
   "cell_type": "markdown",
   "id": "9771556e-a6e3-4508-9236-50b7a1d5c223",
   "metadata": {},
   "source": [
    "### Define your base sequential model."
   ]
  },
  {
   "cell_type": "code",
   "execution_count": 14,
   "id": "3a0963d1-eabe-4120-bd8a-e7c6fc23673d",
   "metadata": {},
   "outputs": [],
   "source": [
    "#Include the number of features in your input layer.\n",
    "#Use the correct activation function and the correct number of neurons for your output layer.\n",
    "#Compile your model with the correct loss function and an optimizer (‘adam’ is a fine choice)\n",
    "#Include a validation split when fitting the model.\n",
    "#Plot your model’s training history.\n",
    "#Evaluate your models with appropriate metrics."
   ]
  },
  {
   "cell_type": "code",
   "execution_count": 11,
   "id": "5168ed4d-1965-4832-8243-d217062b39cd",
   "metadata": {},
   "outputs": [],
   "source": [
    "model = keras.Sequential()\n",
    "model.add(Dense(10, input_dim=xtrain_processed.shape[1],\n",
    "          activation = 'relu'))\n",
    "model.add(Dense(5, activation = 'relu'))\n",
    "model.add(Dense(1, activation = 'sigmoid'))\n",
    "\n",
    "model.compile(optimizer = 'adam', loss = 'bce', metrics = 'accuracy')"
   ]
  },
  {
   "cell_type": "code",
   "execution_count": 12,
   "id": "469474c8-29b4-4d1d-aa2e-c9fc97815b8e",
   "metadata": {},
   "outputs": [
    {
     "name": "stdout",
     "output_type": "stream",
     "text": [
      "Epoch 1/10\n",
      "18/18 [==============================] - 1s 19ms/step - loss: 0.6587 - accuracy: 0.6364 - val_loss: 0.6368 - val_accuracy: 0.7246\n",
      "Epoch 2/10\n",
      "18/18 [==============================] - 0s 3ms/step - loss: 0.6214 - accuracy: 0.7491 - val_loss: 0.6102 - val_accuracy: 0.7536\n",
      "Epoch 3/10\n",
      "18/18 [==============================] - 0s 3ms/step - loss: 0.5850 - accuracy: 0.7982 - val_loss: 0.5843 - val_accuracy: 0.7971\n",
      "Epoch 4/10\n",
      "18/18 [==============================] - 0s 4ms/step - loss: 0.5495 - accuracy: 0.8018 - val_loss: 0.5565 - val_accuracy: 0.8043\n",
      "Epoch 5/10\n",
      "18/18 [==============================] - 0s 3ms/step - loss: 0.5150 - accuracy: 0.8145 - val_loss: 0.5278 - val_accuracy: 0.8188\n",
      "Epoch 6/10\n",
      "18/18 [==============================] - 0s 4ms/step - loss: 0.4804 - accuracy: 0.8273 - val_loss: 0.5025 - val_accuracy: 0.8333\n",
      "Epoch 7/10\n",
      "18/18 [==============================] - 0s 3ms/step - loss: 0.4493 - accuracy: 0.8364 - val_loss: 0.4796 - val_accuracy: 0.8333\n",
      "Epoch 8/10\n",
      "18/18 [==============================] - 0s 4ms/step - loss: 0.4222 - accuracy: 0.8400 - val_loss: 0.4598 - val_accuracy: 0.8333\n",
      "Epoch 9/10\n",
      "18/18 [==============================] - 0s 4ms/step - loss: 0.4002 - accuracy: 0.8418 - val_loss: 0.4428 - val_accuracy: 0.8406\n",
      "Epoch 10/10\n",
      "18/18 [==============================] - 0s 4ms/step - loss: 0.3806 - accuracy: 0.8491 - val_loss: 0.4281 - val_accuracy: 0.8406\n"
     ]
    }
   ],
   "source": [
    "history = model.fit(xtrain_processed, ytrain,validation_split=.2,epochs = 10)"
   ]
  },
  {
   "cell_type": "code",
   "execution_count": 13,
   "id": "754ebef5-02e1-4648-8671-c4f4c0f0c254",
   "metadata": {},
   "outputs": [
    {
     "data": {
      "text/plain": [
       "(<Figure size 600x1200 with 2 Axes>,\n",
       " array([<Axes: title={'center': 'loss'}>,\n",
       "        <Axes: title={'center': 'accuracy'}>], dtype=object))"
      ]
     },
     "execution_count": 13,
     "metadata": {},
     "output_type": "execute_result"
    },
    {
     "data": {
      "image/png": "[encoded data removed]",
      "text/plain": [
       "<Figure size 600x1200 with 2 Axes>"
      ]
     },
     "metadata": {},
     "output_type": "display_data"
    }
   ],
   "source": [
    "plot_history(history)"
   ]
  },
  {
   "cell_type": "code",
   "execution_count": 16,
   "id": "14f22dbf-2954-4a21-9e43-c2c18067cd85",
   "metadata": {},
   "outputs": [
    {
     "name": "stdout",
     "output_type": "stream",
     "text": [
      "8/8 [==============================] - 0s 1ms/step - loss: 0.4048 - accuracy: 0.8261\n"
     ]
    },
    {
     "data": {
      "text/plain": [
       "{'loss': 0.40476372838020325, 'accuracy': 0.8260869383811951}"
      ]
     },
     "execution_count": 16,
     "metadata": {},
     "output_type": "execute_result"
    }
   ],
   "source": [
    "result = model.evaluate(xtest_processed, ytest,return_dict=True)\n",
    "result"
   ]
  },
  {
   "cell_type": "code",
   "execution_count": 17,
   "id": "69899256-fefa-481f-8e2e-18452620a7c6",
   "metadata": {},
   "outputs": [
    {
     "name": "stdout",
     "output_type": "stream",
     "text": [
      "8/8 [==============================] - 0s 1ms/step\n",
      "              precision    recall  f1-score   support\n",
      "\n",
      "           0       0.79      0.81      0.80        98\n",
      "           1       0.85      0.84      0.85       132\n",
      "\n",
      "    accuracy                           0.83       230\n",
      "   macro avg       0.82      0.82      0.82       230\n",
      "weighted avg       0.83      0.83      0.83       230\n",
      "\n"
     ]
    },
    {
     "data": {
      "text/plain": [
       "<Axes: >"
      ]
     },
     "execution_count": 17,
     "metadata": {},
     "output_type": "execute_result"
    },
    {
     "data": {
      "image/png": "[encoded data removed]",
      "text/plain": [
       "<Figure size 640x480 with 2 Axes>"
      ]
     },
     "metadata": {},
     "output_type": "display_data"
    }
   ],
   "source": [
    "test_prediction = model.predict(xtest_processed).round()\n",
    "print(classification_report(ytest, test_prediction))\n",
    "confusion_matrix = confusion_matrix(ytest, test_prediction)\n",
    "sns.heatmap(confusion_matrix, annot=True, fmt ='g')"
   ]
  },
  {
   "cell_type": "code",
   "execution_count": null,
   "id": "1994afa2-6a39-46a0-a89e-16b151f3d164",
   "metadata": {},
   "outputs": [],
   "source": []
  }
 ],
 "metadata": {
  "kernelspec": {
   "display_name": "Python 3 (ipykernel)",
   "language": "python",
   "name": "python3"
  },
  "language_info": {
   "codemirror_mode": {
    "name": "ipython",
    "version": 3
   },
   "file_extension": ".py",
   "mimetype": "text/x-python",
   "name": "python",
   "nbconvert_exporter": "python",
   "pygments_lexer": "ipython3",
   "version": "3.10.10"
  },
  "widgets": {
   "application/vnd.jupyter.widget-state+json": {
    "state": {},
    "version_major": 2,
    "version_minor": 0
   }
  }
 },
 "nbformat": 4,
 "nbformat_minor": 5
}
